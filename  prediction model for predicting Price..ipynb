{
  "cells": [
    {
      "cell_type": "markdown",
      "metadata": {
        "id": "view-in-github",
        "colab_type": "text"
      },
      "source": [
        "<a href=\"https://colab.research.google.com/github/kurmapu767/kurmapu767/blob/main/%20prediction%20model%20for%20predicting%20Price..ipynb\" target=\"_parent\"><img src=\"https://colab.research.google.com/assets/colab-badge.svg\" alt=\"Open In Colab\"/></a>"
      ]
    },
    {
      "cell_type": "code",
      "source": [
        "import pandas as pd\n",
        "import numpy as np\n",
        "import seaborn as sns\n",
        "from google.colab import files\n",
        "upload= files.upload()"
      ],
      "metadata": {
        "colab": {
          "base_uri": "https://localhost:8080/",
          "height": 77
        },
        "id": "eLubA7zMPd6b",
        "outputId": "f6dd5a37-3cae-427f-a333-44b8dec61121"
      },
      "execution_count": 5,
      "outputs": [
        {
          "output_type": "display_data",
          "data": {
            "text/plain": [
              "<IPython.core.display.HTML object>"
            ],
            "text/html": [
              "\n",
              "     <input type=\"file\" id=\"files-4d8a7704-8725-49b2-9617-ab611ad7c499\" name=\"files[]\" multiple disabled\n",
              "        style=\"border:none\" />\n",
              "     <output id=\"result-4d8a7704-8725-49b2-9617-ab611ad7c499\">\n",
              "      Upload widget is only available when the cell has been executed in the\n",
              "      current browser session. Please rerun this cell to enable.\n",
              "      </output>\n",
              "      <script>// Copyright 2017 Google LLC\n",
              "//\n",
              "// Licensed under the Apache License, Version 2.0 (the \"License\");\n",
              "// you may not use this file except in compliance with the License.\n",
              "// You may obtain a copy of the License at\n",
              "//\n",
              "//      http://www.apache.org/licenses/LICENSE-2.0\n",
              "//\n",
              "// Unless required by applicable law or agreed to in writing, software\n",
              "// distributed under the License is distributed on an \"AS IS\" BASIS,\n",
              "// WITHOUT WARRANTIES OR CONDITIONS OF ANY KIND, either express or implied.\n",
              "// See the License for the specific language governing permissions and\n",
              "// limitations under the License.\n",
              "\n",
              "/**\n",
              " * @fileoverview Helpers for google.colab Python module.\n",
              " */\n",
              "(function(scope) {\n",
              "function span(text, styleAttributes = {}) {\n",
              "  const element = document.createElement('span');\n",
              "  element.textContent = text;\n",
              "  for (const key of Object.keys(styleAttributes)) {\n",
              "    element.style[key] = styleAttributes[key];\n",
              "  }\n",
              "  return element;\n",
              "}\n",
              "\n",
              "// Max number of bytes which will be uploaded at a time.\n",
              "const MAX_PAYLOAD_SIZE = 100 * 1024;\n",
              "\n",
              "function _uploadFiles(inputId, outputId) {\n",
              "  const steps = uploadFilesStep(inputId, outputId);\n",
              "  const outputElement = document.getElementById(outputId);\n",
              "  // Cache steps on the outputElement to make it available for the next call\n",
              "  // to uploadFilesContinue from Python.\n",
              "  outputElement.steps = steps;\n",
              "\n",
              "  return _uploadFilesContinue(outputId);\n",
              "}\n",
              "\n",
              "// This is roughly an async generator (not supported in the browser yet),\n",
              "// where there are multiple asynchronous steps and the Python side is going\n",
              "// to poll for completion of each step.\n",
              "// This uses a Promise to block the python side on completion of each step,\n",
              "// then passes the result of the previous step as the input to the next step.\n",
              "function _uploadFilesContinue(outputId) {\n",
              "  const outputElement = document.getElementById(outputId);\n",
              "  const steps = outputElement.steps;\n",
              "\n",
              "  const next = steps.next(outputElement.lastPromiseValue);\n",
              "  return Promise.resolve(next.value.promise).then((value) => {\n",
              "    // Cache the last promise value to make it available to the next\n",
              "    // step of the generator.\n",
              "    outputElement.lastPromiseValue = value;\n",
              "    return next.value.response;\n",
              "  });\n",
              "}\n",
              "\n",
              "/**\n",
              " * Generator function which is called between each async step of the upload\n",
              " * process.\n",
              " * @param {string} inputId Element ID of the input file picker element.\n",
              " * @param {string} outputId Element ID of the output display.\n",
              " * @return {!Iterable<!Object>} Iterable of next steps.\n",
              " */\n",
              "function* uploadFilesStep(inputId, outputId) {\n",
              "  const inputElement = document.getElementById(inputId);\n",
              "  inputElement.disabled = false;\n",
              "\n",
              "  const outputElement = document.getElementById(outputId);\n",
              "  outputElement.innerHTML = '';\n",
              "\n",
              "  const pickedPromise = new Promise((resolve) => {\n",
              "    inputElement.addEventListener('change', (e) => {\n",
              "      resolve(e.target.files);\n",
              "    });\n",
              "  });\n",
              "\n",
              "  const cancel = document.createElement('button');\n",
              "  inputElement.parentElement.appendChild(cancel);\n",
              "  cancel.textContent = 'Cancel upload';\n",
              "  const cancelPromise = new Promise((resolve) => {\n",
              "    cancel.onclick = () => {\n",
              "      resolve(null);\n",
              "    };\n",
              "  });\n",
              "\n",
              "  // Wait for the user to pick the files.\n",
              "  const files = yield {\n",
              "    promise: Promise.race([pickedPromise, cancelPromise]),\n",
              "    response: {\n",
              "      action: 'starting',\n",
              "    }\n",
              "  };\n",
              "\n",
              "  cancel.remove();\n",
              "\n",
              "  // Disable the input element since further picks are not allowed.\n",
              "  inputElement.disabled = true;\n",
              "\n",
              "  if (!files) {\n",
              "    return {\n",
              "      response: {\n",
              "        action: 'complete',\n",
              "      }\n",
              "    };\n",
              "  }\n",
              "\n",
              "  for (const file of files) {\n",
              "    const li = document.createElement('li');\n",
              "    li.append(span(file.name, {fontWeight: 'bold'}));\n",
              "    li.append(span(\n",
              "        `(${file.type || 'n/a'}) - ${file.size} bytes, ` +\n",
              "        `last modified: ${\n",
              "            file.lastModifiedDate ? file.lastModifiedDate.toLocaleDateString() :\n",
              "                                    'n/a'} - `));\n",
              "    const percent = span('0% done');\n",
              "    li.appendChild(percent);\n",
              "\n",
              "    outputElement.appendChild(li);\n",
              "\n",
              "    const fileDataPromise = new Promise((resolve) => {\n",
              "      const reader = new FileReader();\n",
              "      reader.onload = (e) => {\n",
              "        resolve(e.target.result);\n",
              "      };\n",
              "      reader.readAsArrayBuffer(file);\n",
              "    });\n",
              "    // Wait for the data to be ready.\n",
              "    let fileData = yield {\n",
              "      promise: fileDataPromise,\n",
              "      response: {\n",
              "        action: 'continue',\n",
              "      }\n",
              "    };\n",
              "\n",
              "    // Use a chunked sending to avoid message size limits. See b/62115660.\n",
              "    let position = 0;\n",
              "    do {\n",
              "      const length = Math.min(fileData.byteLength - position, MAX_PAYLOAD_SIZE);\n",
              "      const chunk = new Uint8Array(fileData, position, length);\n",
              "      position += length;\n",
              "\n",
              "      const base64 = btoa(String.fromCharCode.apply(null, chunk));\n",
              "      yield {\n",
              "        response: {\n",
              "          action: 'append',\n",
              "          file: file.name,\n",
              "          data: base64,\n",
              "        },\n",
              "      };\n",
              "\n",
              "      let percentDone = fileData.byteLength === 0 ?\n",
              "          100 :\n",
              "          Math.round((position / fileData.byteLength) * 100);\n",
              "      percent.textContent = `${percentDone}% done`;\n",
              "\n",
              "    } while (position < fileData.byteLength);\n",
              "  }\n",
              "\n",
              "  // All done.\n",
              "  yield {\n",
              "    response: {\n",
              "      action: 'complete',\n",
              "    }\n",
              "  };\n",
              "}\n",
              "\n",
              "scope.google = scope.google || {};\n",
              "scope.google.colab = scope.google.colab || {};\n",
              "scope.google.colab._files = {\n",
              "  _uploadFiles,\n",
              "  _uploadFilesContinue,\n",
              "};\n",
              "})(self);\n",
              "</script> "
            ]
          },
          "metadata": {}
        },
        {
          "output_type": "stream",
          "name": "stdout",
          "text": [
            "Saving ToyotaCorolla 2.csv to ToyotaCorolla 2.csv\n"
          ]
        }
      ]
    },
    {
      "cell_type": "code",
      "source": [
        "df=pd.read_csv(\"ToyotaCorolla 2.csv\")\n",
        "df.head()\n"
      ],
      "metadata": {
        "colab": {
          "base_uri": "https://localhost:8080/",
          "height": 734
        },
        "id": "Ac0t96FaQfBP",
        "outputId": "940d624d-ba91-49b3-b338-788d1185fe35"
      },
      "execution_count": 6,
      "outputs": [
        {
          "output_type": "execute_result",
          "data": {
            "text/plain": [
              "   Id                                           Model  Price  Age_08_04  \\\n",
              "0   1   TOYOTA Corolla 2.0 D4D HATCHB TERRA 2/3-Doors  13500         23   \n",
              "1   2   TOYOTA Corolla 2.0 D4D HATCHB TERRA 2/3-Doors  13750         23   \n",
              "2   3  ?TOYOTA Corolla 2.0 D4D HATCHB TERRA 2/3-Doors  13950         24   \n",
              "3   4   TOYOTA Corolla 2.0 D4D HATCHB TERRA 2/3-Doors  14950         26   \n",
              "4   5     TOYOTA Corolla 2.0 D4D HATCHB SOL 2/3-Doors  13750         30   \n",
              "\n",
              "   Mfg_Month  Mfg_Year     KM Fuel_Type  HP  Met_Color  ...  Central_Lock  \\\n",
              "0         10      2002  46986    Diesel  90          1  ...             1   \n",
              "1         10      2002  72937    Diesel  90          1  ...             1   \n",
              "2          9      2002  41711    Diesel  90          1  ...             0   \n",
              "3          7      2002  48000    Diesel  90          0  ...             0   \n",
              "4          3      2002  38500    Diesel  90          0  ...             1   \n",
              "\n",
              "   Powered_Windows  Power_Steering  Radio  Mistlamps  Sport_Model  \\\n",
              "0                1               1      0          0            0   \n",
              "1                0               1      0          0            0   \n",
              "2                0               1      0          0            0   \n",
              "3                0               1      0          0            0   \n",
              "4                1               1      0          1            0   \n",
              "\n",
              "   Backseat_Divider  Metallic_Rim  Radio_cassette  Tow_Bar  \n",
              "0                 1             0               0        0  \n",
              "1                 1             0               0        0  \n",
              "2                 1             0               0        0  \n",
              "3                 1             0               0        0  \n",
              "4                 1             0               0        0  \n",
              "\n",
              "[5 rows x 37 columns]"
            ],
            "text/html": [
              "\n",
              "  <div id=\"df-c0cfc182-2163-4d8e-acb4-7595f61137be\">\n",
              "    <div class=\"colab-df-container\">\n",
              "      <div>\n",
              "<style scoped>\n",
              "    .dataframe tbody tr th:only-of-type {\n",
              "        vertical-align: middle;\n",
              "    }\n",
              "\n",
              "    .dataframe tbody tr th {\n",
              "        vertical-align: top;\n",
              "    }\n",
              "\n",
              "    .dataframe thead th {\n",
              "        text-align: right;\n",
              "    }\n",
              "</style>\n",
              "<table border=\"1\" class=\"dataframe\">\n",
              "  <thead>\n",
              "    <tr style=\"text-align: right;\">\n",
              "      <th></th>\n",
              "      <th>Id</th>\n",
              "      <th>Model</th>\n",
              "      <th>Price</th>\n",
              "      <th>Age_08_04</th>\n",
              "      <th>Mfg_Month</th>\n",
              "      <th>Mfg_Year</th>\n",
              "      <th>KM</th>\n",
              "      <th>Fuel_Type</th>\n",
              "      <th>HP</th>\n",
              "      <th>Met_Color</th>\n",
              "      <th>...</th>\n",
              "      <th>Central_Lock</th>\n",
              "      <th>Powered_Windows</th>\n",
              "      <th>Power_Steering</th>\n",
              "      <th>Radio</th>\n",
              "      <th>Mistlamps</th>\n",
              "      <th>Sport_Model</th>\n",
              "      <th>Backseat_Divider</th>\n",
              "      <th>Metallic_Rim</th>\n",
              "      <th>Radio_cassette</th>\n",
              "      <th>Tow_Bar</th>\n",
              "    </tr>\n",
              "  </thead>\n",
              "  <tbody>\n",
              "    <tr>\n",
              "      <th>0</th>\n",
              "      <td>1</td>\n",
              "      <td>TOYOTA Corolla 2.0 D4D HATCHB TERRA 2/3-Doors</td>\n",
              "      <td>13500</td>\n",
              "      <td>23</td>\n",
              "      <td>10</td>\n",
              "      <td>2002</td>\n",
              "      <td>46986</td>\n",
              "      <td>Diesel</td>\n",
              "      <td>90</td>\n",
              "      <td>1</td>\n",
              "      <td>...</td>\n",
              "      <td>1</td>\n",
              "      <td>1</td>\n",
              "      <td>1</td>\n",
              "      <td>0</td>\n",
              "      <td>0</td>\n",
              "      <td>0</td>\n",
              "      <td>1</td>\n",
              "      <td>0</td>\n",
              "      <td>0</td>\n",
              "      <td>0</td>\n",
              "    </tr>\n",
              "    <tr>\n",
              "      <th>1</th>\n",
              "      <td>2</td>\n",
              "      <td>TOYOTA Corolla 2.0 D4D HATCHB TERRA 2/3-Doors</td>\n",
              "      <td>13750</td>\n",
              "      <td>23</td>\n",
              "      <td>10</td>\n",
              "      <td>2002</td>\n",
              "      <td>72937</td>\n",
              "      <td>Diesel</td>\n",
              "      <td>90</td>\n",
              "      <td>1</td>\n",
              "      <td>...</td>\n",
              "      <td>1</td>\n",
              "      <td>0</td>\n",
              "      <td>1</td>\n",
              "      <td>0</td>\n",
              "      <td>0</td>\n",
              "      <td>0</td>\n",
              "      <td>1</td>\n",
              "      <td>0</td>\n",
              "      <td>0</td>\n",
              "      <td>0</td>\n",
              "    </tr>\n",
              "    <tr>\n",
              "      <th>2</th>\n",
              "      <td>3</td>\n",
              "      <td>?TOYOTA Corolla 2.0 D4D HATCHB TERRA 2/3-Doors</td>\n",
              "      <td>13950</td>\n",
              "      <td>24</td>\n",
              "      <td>9</td>\n",
              "      <td>2002</td>\n",
              "      <td>41711</td>\n",
              "      <td>Diesel</td>\n",
              "      <td>90</td>\n",
              "      <td>1</td>\n",
              "      <td>...</td>\n",
              "      <td>0</td>\n",
              "      <td>0</td>\n",
              "      <td>1</td>\n",
              "      <td>0</td>\n",
              "      <td>0</td>\n",
              "      <td>0</td>\n",
              "      <td>1</td>\n",
              "      <td>0</td>\n",
              "      <td>0</td>\n",
              "      <td>0</td>\n",
              "    </tr>\n",
              "    <tr>\n",
              "      <th>3</th>\n",
              "      <td>4</td>\n",
              "      <td>TOYOTA Corolla 2.0 D4D HATCHB TERRA 2/3-Doors</td>\n",
              "      <td>14950</td>\n",
              "      <td>26</td>\n",
              "      <td>7</td>\n",
              "      <td>2002</td>\n",
              "      <td>48000</td>\n",
              "      <td>Diesel</td>\n",
              "      <td>90</td>\n",
              "      <td>0</td>\n",
              "      <td>...</td>\n",
              "      <td>0</td>\n",
              "      <td>0</td>\n",
              "      <td>1</td>\n",
              "      <td>0</td>\n",
              "      <td>0</td>\n",
              "      <td>0</td>\n",
              "      <td>1</td>\n",
              "      <td>0</td>\n",
              "      <td>0</td>\n",
              "      <td>0</td>\n",
              "    </tr>\n",
              "    <tr>\n",
              "      <th>4</th>\n",
              "      <td>5</td>\n",
              "      <td>TOYOTA Corolla 2.0 D4D HATCHB SOL 2/3-Doors</td>\n",
              "      <td>13750</td>\n",
              "      <td>30</td>\n",
              "      <td>3</td>\n",
              "      <td>2002</td>\n",
              "      <td>38500</td>\n",
              "      <td>Diesel</td>\n",
              "      <td>90</td>\n",
              "      <td>0</td>\n",
              "      <td>...</td>\n",
              "      <td>1</td>\n",
              "      <td>1</td>\n",
              "      <td>1</td>\n",
              "      <td>0</td>\n",
              "      <td>1</td>\n",
              "      <td>0</td>\n",
              "      <td>1</td>\n",
              "      <td>0</td>\n",
              "      <td>0</td>\n",
              "      <td>0</td>\n",
              "    </tr>\n",
              "  </tbody>\n",
              "</table>\n",
              "<p>5 rows × 37 columns</p>\n",
              "</div>\n",
              "      <button class=\"colab-df-convert\" onclick=\"convertToInteractive('df-c0cfc182-2163-4d8e-acb4-7595f61137be')\"\n",
              "              title=\"Convert this dataframe to an interactive table.\"\n",
              "              style=\"display:none;\">\n",
              "        \n",
              "  <svg xmlns=\"http://www.w3.org/2000/svg\" height=\"24px\"viewBox=\"0 0 24 24\"\n",
              "       width=\"24px\">\n",
              "    <path d=\"M0 0h24v24H0V0z\" fill=\"none\"/>\n",
              "    <path d=\"M18.56 5.44l.94 2.06.94-2.06 2.06-.94-2.06-.94-.94-2.06-.94 2.06-2.06.94zm-11 1L8.5 8.5l.94-2.06 2.06-.94-2.06-.94L8.5 2.5l-.94 2.06-2.06.94zm10 10l.94 2.06.94-2.06 2.06-.94-2.06-.94-.94-2.06-.94 2.06-2.06.94z\"/><path d=\"M17.41 7.96l-1.37-1.37c-.4-.4-.92-.59-1.43-.59-.52 0-1.04.2-1.43.59L10.3 9.45l-7.72 7.72c-.78.78-.78 2.05 0 2.83L4 21.41c.39.39.9.59 1.41.59.51 0 1.02-.2 1.41-.59l7.78-7.78 2.81-2.81c.8-.78.8-2.07 0-2.86zM5.41 20L4 18.59l7.72-7.72 1.47 1.35L5.41 20z\"/>\n",
              "  </svg>\n",
              "      </button>\n",
              "      \n",
              "  <style>\n",
              "    .colab-df-container {\n",
              "      display:flex;\n",
              "      flex-wrap:wrap;\n",
              "      gap: 12px;\n",
              "    }\n",
              "\n",
              "    .colab-df-convert {\n",
              "      background-color: #E8F0FE;\n",
              "      border: none;\n",
              "      border-radius: 50%;\n",
              "      cursor: pointer;\n",
              "      display: none;\n",
              "      fill: #1967D2;\n",
              "      height: 32px;\n",
              "      padding: 0 0 0 0;\n",
              "      width: 32px;\n",
              "    }\n",
              "\n",
              "    .colab-df-convert:hover {\n",
              "      background-color: #E2EBFA;\n",
              "      box-shadow: 0px 1px 2px rgba(60, 64, 67, 0.3), 0px 1px 3px 1px rgba(60, 64, 67, 0.15);\n",
              "      fill: #174EA6;\n",
              "    }\n",
              "\n",
              "    [theme=dark] .colab-df-convert {\n",
              "      background-color: #3B4455;\n",
              "      fill: #D2E3FC;\n",
              "    }\n",
              "\n",
              "    [theme=dark] .colab-df-convert:hover {\n",
              "      background-color: #434B5C;\n",
              "      box-shadow: 0px 1px 3px 1px rgba(0, 0, 0, 0.15);\n",
              "      filter: drop-shadow(0px 1px 2px rgba(0, 0, 0, 0.3));\n",
              "      fill: #FFFFFF;\n",
              "    }\n",
              "  </style>\n",
              "\n",
              "      <script>\n",
              "        const buttonEl =\n",
              "          document.querySelector('#df-c0cfc182-2163-4d8e-acb4-7595f61137be button.colab-df-convert');\n",
              "        buttonEl.style.display =\n",
              "          google.colab.kernel.accessAllowed ? 'block' : 'none';\n",
              "\n",
              "        async function convertToInteractive(key) {\n",
              "          const element = document.querySelector('#df-c0cfc182-2163-4d8e-acb4-7595f61137be');\n",
              "          const dataTable =\n",
              "            await google.colab.kernel.invokeFunction('convertToInteractive',\n",
              "                                                     [key], {});\n",
              "          if (!dataTable) return;\n",
              "\n",
              "          const docLinkHtml = 'Like what you see? Visit the ' +\n",
              "            '<a target=\"_blank\" href=https://colab.research.google.com/notebooks/data_table.ipynb>data table notebook</a>'\n",
              "            + ' to learn more about interactive tables.';\n",
              "          element.innerHTML = '';\n",
              "          dataTable['output_type'] = 'display_data';\n",
              "          await google.colab.output.renderOutput(dataTable, element);\n",
              "          const docLink = document.createElement('div');\n",
              "          docLink.innerHTML = docLinkHtml;\n",
              "          element.appendChild(docLink);\n",
              "        }\n",
              "      </script>\n",
              "    </div>\n",
              "  </div>\n",
              "  "
            ]
          },
          "metadata": {},
          "execution_count": 6
        }
      ]
    },
    {
      "cell_type": "code",
      "source": [
        "df.isnull().sum()"
      ],
      "metadata": {
        "colab": {
          "base_uri": "https://localhost:8080/"
        },
        "id": "0sNIDAgceAoz",
        "outputId": "f7724388-36c7-4ef5-f5f0-5e239a68b7da"
      },
      "execution_count": 9,
      "outputs": [
        {
          "output_type": "execute_result",
          "data": {
            "text/plain": [
              "Id                  0\n",
              "Model               0\n",
              "Price               0\n",
              "Age_08_04           0\n",
              "Mfg_Month           0\n",
              "Mfg_Year            0\n",
              "KM                  0\n",
              "Fuel_Type           0\n",
              "HP                  0\n",
              "Met_Color           0\n",
              "Automatic           0\n",
              "cc                  0\n",
              "Doors               0\n",
              "Cylinders           0\n",
              "Gears               0\n",
              "Quarterly_Tax       0\n",
              "Weight              0\n",
              "Mfr_Guarantee       0\n",
              "BOVAG_Guarantee     0\n",
              "Guarantee_Period    0\n",
              "ABS                 0\n",
              "Airbag_1            0\n",
              "Airbag_2            0\n",
              "Airco               0\n",
              "Automatic_airco     0\n",
              "Boardcomputer       0\n",
              "CD_Player           0\n",
              "Central_Lock        0\n",
              "Powered_Windows     0\n",
              "Power_Steering      0\n",
              "Radio               0\n",
              "Mistlamps           0\n",
              "Sport_Model         0\n",
              "Backseat_Divider    0\n",
              "Metallic_Rim        0\n",
              "Radio_cassette      0\n",
              "Tow_Bar             0\n",
              "dtype: int64"
            ]
          },
          "metadata": {},
          "execution_count": 9
        }
      ]
    },
    {
      "cell_type": "code",
      "source": [
        "df.shape"
      ],
      "metadata": {
        "colab": {
          "base_uri": "https://localhost:8080/"
        },
        "id": "cmjCoZwqesZi",
        "outputId": "a976968a-6e07-48cc-a013-f45f32c2c856"
      },
      "execution_count": 16,
      "outputs": [
        {
          "output_type": "execute_result",
          "data": {
            "text/plain": [
              "(1436, 37)"
            ]
          },
          "metadata": {},
          "execution_count": 16
        }
      ]
    },
    {
      "cell_type": "code",
      "source": [
        "y=df[\"Price\"]\n",
        "\n"
      ],
      "metadata": {
        "id": "OL0OntNPeW8w"
      },
      "execution_count": 55,
      "outputs": []
    },
    {
      "cell_type": "code",
      "source": [
        "ft= df[\"Fuel_Type\"]\n",
        "ft.unique()"
      ],
      "metadata": {
        "colab": {
          "base_uri": "https://localhost:8080/"
        },
        "id": "2F_ilBwzfzHo",
        "outputId": "50949295-e56b-499e-ab5b-2c177e04cc9a"
      },
      "execution_count": 25,
      "outputs": [
        {
          "output_type": "execute_result",
          "data": {
            "text/plain": [
              "array(['Diesel', 'Petrol', 'CNG'], dtype=object)"
            ]
          },
          "metadata": {},
          "execution_count": 25
        }
      ]
    },
    {
      "cell_type": "code",
      "source": [
        "from sklearn.preprocessing import OneHotEncoder\n",
        "ohe=OneHotEncoder()\n",
        "feature_array= ohe.fit_transform(df[[\"Fuel_Type\"]]).toarray()\n",
        "feature_array"
      ],
      "metadata": {
        "colab": {
          "base_uri": "https://localhost:8080/"
        },
        "id": "eKkXxnP2g3UV",
        "outputId": "b22276ee-9aed-4949-f86b-a72fff34ba88"
      },
      "execution_count": 35,
      "outputs": [
        {
          "output_type": "execute_result",
          "data": {
            "text/plain": [
              "array([[0., 1., 0.],\n",
              "       [0., 1., 0.],\n",
              "       [0., 1., 0.],\n",
              "       ...,\n",
              "       [0., 0., 1.],\n",
              "       [0., 0., 1.],\n",
              "       [0., 0., 1.]])"
            ]
          },
          "metadata": {},
          "execution_count": 35
        }
      ]
    },
    {
      "cell_type": "code",
      "source": [
        "feature_labels = ohe.categories_\n",
        "feature_labels= np.array(feature_labels).ravel()\n",
        "feature_labels"
      ],
      "metadata": {
        "colab": {
          "base_uri": "https://localhost:8080/"
        },
        "id": "A-LsEk3sh58M",
        "outputId": "6f35058d-71f4-42dc-f9c0-cc75fe019044"
      },
      "execution_count": 37,
      "outputs": [
        {
          "output_type": "execute_result",
          "data": {
            "text/plain": [
              "array(['CNG', 'Diesel', 'Petrol'], dtype=object)"
            ]
          },
          "metadata": {},
          "execution_count": 37
        }
      ]
    },
    {
      "cell_type": "code",
      "source": [
        "new = pd.DataFrame(feature_array,columns=feature_labels)"
      ],
      "metadata": {
        "id": "nvqK7_ZRiasC"
      },
      "execution_count": 39,
      "outputs": []
    },
    {
      "cell_type": "code",
      "source": [
        "data= pd.concat([df,new],axis=1)\n"
      ],
      "metadata": {
        "id": "01FucYPTjiMB"
      },
      "execution_count": 60,
      "outputs": []
    },
    {
      "cell_type": "code",
      "source": [
        "newd= data.drop(labels=['Fuel_Type','Model'],axis=1)\n",
        "newd.columns"
      ],
      "metadata": {
        "colab": {
          "base_uri": "https://localhost:8080/"
        },
        "id": "Aa5jGEROj6TJ",
        "outputId": "4e4c2558-d436-49a5-be91-cd679065f322"
      },
      "execution_count": 81,
      "outputs": [
        {
          "output_type": "execute_result",
          "data": {
            "text/plain": [
              "Index(['Id', 'Price', 'Age_08_04', 'Mfg_Month', 'Mfg_Year', 'KM', 'HP',\n",
              "       'Met_Color', 'Automatic', 'cc', 'Doors', 'Cylinders', 'Gears',\n",
              "       'Quarterly_Tax', 'Weight', 'Mfr_Guarantee', 'BOVAG_Guarantee',\n",
              "       'Guarantee_Period', 'ABS', 'Airbag_1', 'Airbag_2', 'Airco',\n",
              "       'Automatic_airco', 'Boardcomputer', 'CD_Player', 'Central_Lock',\n",
              "       'Powered_Windows', 'Power_Steering', 'Radio', 'Mistlamps',\n",
              "       'Sport_Model', 'Backseat_Divider', 'Metallic_Rim', 'Radio_cassette',\n",
              "       'Tow_Bar', 'CNG', 'Diesel', 'Petrol'],\n",
              "      dtype='object')"
            ]
          },
          "metadata": {},
          "execution_count": 81
        }
      ]
    },
    {
      "cell_type": "code",
      "source": [
        "x=newd.iloc[[:,2:38]]\n",
        "list(x)"
      ],
      "metadata": {
        "colab": {
          "base_uri": "https://localhost:8080/"
        },
        "id": "8MXoDP40jdz1",
        "outputId": "67c9584e-f376-412b-f6f4-86ed8dfd13ac"
      },
      "execution_count": 70,
      "outputs": [
        {
          "output_type": "execute_result",
          "data": {
            "text/plain": [
              "['Age_08_04',\n",
              " 'Mfg_Month',\n",
              " 'Mfg_Year',\n",
              " 'KM',\n",
              " 'HP',\n",
              " 'Met_Color',\n",
              " 'Automatic',\n",
              " 'cc',\n",
              " 'Doors',\n",
              " 'Cylinders',\n",
              " 'Gears',\n",
              " 'Quarterly_Tax',\n",
              " 'Weight',\n",
              " 'Mfr_Guarantee',\n",
              " 'BOVAG_Guarantee',\n",
              " 'Guarantee_Period',\n",
              " 'ABS',\n",
              " 'Airbag_1',\n",
              " 'Airbag_2',\n",
              " 'Airco',\n",
              " 'Automatic_airco',\n",
              " 'Boardcomputer',\n",
              " 'CD_Player',\n",
              " 'Central_Lock',\n",
              " 'Powered_Windows',\n",
              " 'Power_Steering',\n",
              " 'Radio',\n",
              " 'Mistlamps',\n",
              " 'Sport_Model',\n",
              " 'Backseat_Divider',\n",
              " 'Metallic_Rim',\n",
              " 'Radio_cassette',\n",
              " 'Tow_Bar',\n",
              " 'CNG',\n",
              " 'Diesel',\n",
              " 'Petrol']"
            ]
          },
          "metadata": {},
          "execution_count": 70
        }
      ]
    },
    {
      "cell_type": "code",
      "source": [
        "from sklearn.linear_model import LinearRegression\n",
        "lr= LinearRegression()\n",
        "lr.fit(x,y)"
      ],
      "metadata": {
        "colab": {
          "base_uri": "https://localhost:8080/",
          "height": 75
        },
        "id": "zGA1AjWbfWO3",
        "outputId": "f58f4ab0-c28a-4c11-acf2-897e11b867ae"
      },
      "execution_count": 71,
      "outputs": [
        {
          "output_type": "execute_result",
          "data": {
            "text/plain": [
              "LinearRegression()"
            ],
            "text/html": [
              "<style>#sk-container-id-1 {color: black;background-color: white;}#sk-container-id-1 pre{padding: 0;}#sk-container-id-1 div.sk-toggleable {background-color: white;}#sk-container-id-1 label.sk-toggleable__label {cursor: pointer;display: block;width: 100%;margin-bottom: 0;padding: 0.3em;box-sizing: border-box;text-align: center;}#sk-container-id-1 label.sk-toggleable__label-arrow:before {content: \"▸\";float: left;margin-right: 0.25em;color: #696969;}#sk-container-id-1 label.sk-toggleable__label-arrow:hover:before {color: black;}#sk-container-id-1 div.sk-estimator:hover label.sk-toggleable__label-arrow:before {color: black;}#sk-container-id-1 div.sk-toggleable__content {max-height: 0;max-width: 0;overflow: hidden;text-align: left;background-color: #f0f8ff;}#sk-container-id-1 div.sk-toggleable__content pre {margin: 0.2em;color: black;border-radius: 0.25em;background-color: #f0f8ff;}#sk-container-id-1 input.sk-toggleable__control:checked~div.sk-toggleable__content {max-height: 200px;max-width: 100%;overflow: auto;}#sk-container-id-1 input.sk-toggleable__control:checked~label.sk-toggleable__label-arrow:before {content: \"▾\";}#sk-container-id-1 div.sk-estimator input.sk-toggleable__control:checked~label.sk-toggleable__label {background-color: #d4ebff;}#sk-container-id-1 div.sk-label input.sk-toggleable__control:checked~label.sk-toggleable__label {background-color: #d4ebff;}#sk-container-id-1 input.sk-hidden--visually {border: 0;clip: rect(1px 1px 1px 1px);clip: rect(1px, 1px, 1px, 1px);height: 1px;margin: -1px;overflow: hidden;padding: 0;position: absolute;width: 1px;}#sk-container-id-1 div.sk-estimator {font-family: monospace;background-color: #f0f8ff;border: 1px dotted black;border-radius: 0.25em;box-sizing: border-box;margin-bottom: 0.5em;}#sk-container-id-1 div.sk-estimator:hover {background-color: #d4ebff;}#sk-container-id-1 div.sk-parallel-item::after {content: \"\";width: 100%;border-bottom: 1px solid gray;flex-grow: 1;}#sk-container-id-1 div.sk-label:hover label.sk-toggleable__label {background-color: #d4ebff;}#sk-container-id-1 div.sk-serial::before {content: \"\";position: absolute;border-left: 1px solid gray;box-sizing: border-box;top: 0;bottom: 0;left: 50%;z-index: 0;}#sk-container-id-1 div.sk-serial {display: flex;flex-direction: column;align-items: center;background-color: white;padding-right: 0.2em;padding-left: 0.2em;position: relative;}#sk-container-id-1 div.sk-item {position: relative;z-index: 1;}#sk-container-id-1 div.sk-parallel {display: flex;align-items: stretch;justify-content: center;background-color: white;position: relative;}#sk-container-id-1 div.sk-item::before, #sk-container-id-1 div.sk-parallel-item::before {content: \"\";position: absolute;border-left: 1px solid gray;box-sizing: border-box;top: 0;bottom: 0;left: 50%;z-index: -1;}#sk-container-id-1 div.sk-parallel-item {display: flex;flex-direction: column;z-index: 1;position: relative;background-color: white;}#sk-container-id-1 div.sk-parallel-item:first-child::after {align-self: flex-end;width: 50%;}#sk-container-id-1 div.sk-parallel-item:last-child::after {align-self: flex-start;width: 50%;}#sk-container-id-1 div.sk-parallel-item:only-child::after {width: 0;}#sk-container-id-1 div.sk-dashed-wrapped {border: 1px dashed gray;margin: 0 0.4em 0.5em 0.4em;box-sizing: border-box;padding-bottom: 0.4em;background-color: white;}#sk-container-id-1 div.sk-label label {font-family: monospace;font-weight: bold;display: inline-block;line-height: 1.2em;}#sk-container-id-1 div.sk-label-container {text-align: center;}#sk-container-id-1 div.sk-container {/* jupyter's `normalize.less` sets `[hidden] { display: none; }` but bootstrap.min.css set `[hidden] { display: none !important; }` so we also need the `!important` here to be able to override the default hidden behavior on the sphinx rendered scikit-learn.org. See: https://github.com/scikit-learn/scikit-learn/issues/21755 */display: inline-block !important;position: relative;}#sk-container-id-1 div.sk-text-repr-fallback {display: none;}</style><div id=\"sk-container-id-1\" class=\"sk-top-container\"><div class=\"sk-text-repr-fallback\"><pre>LinearRegression()</pre><b>In a Jupyter environment, please rerun this cell to show the HTML representation or trust the notebook. <br />On GitHub, the HTML representation is unable to render, please try loading this page with nbviewer.org.</b></div><div class=\"sk-container\" hidden><div class=\"sk-item\"><div class=\"sk-estimator sk-toggleable\"><input class=\"sk-toggleable__control sk-hidden--visually\" id=\"sk-estimator-id-1\" type=\"checkbox\" checked><label for=\"sk-estimator-id-1\" class=\"sk-toggleable__label sk-toggleable__label-arrow\">LinearRegression</label><div class=\"sk-toggleable__content\"><pre>LinearRegression()</pre></div></div></div></div></div>"
            ]
          },
          "metadata": {},
          "execution_count": 71
        }
      ]
    },
    {
      "cell_type": "code",
      "source": [
        "y_pred=lr.predict(x)\n",
        "y_pred\n"
      ],
      "metadata": {
        "colab": {
          "base_uri": "https://localhost:8080/"
        },
        "id": "TE07zVJNnhN4",
        "outputId": "add53b10-9a83-4515-cb9b-b45a42e7a026"
      },
      "execution_count": 76,
      "outputs": [
        {
          "output_type": "execute_result",
          "data": {
            "text/plain": [
              "array([15418.76128404, 14982.4812358 , 15377.33280209, ...,\n",
              "        7897.09644102,  8148.58430179,  8772.41373535])"
            ]
          },
          "metadata": {},
          "execution_count": 76
        }
      ]
    },
    {
      "cell_type": "code",
      "source": [
        "from sklearn.metrics import mean_squared_error,r2_score\n",
        "mse= mean_squared_error(y,y_pred)\n",
        "r2score= r2_score(y,y_pred)\n",
        "print(\"mean_squared_error=\",mse)\n",
        "print(\"r2_Score=\",r2score)"
      ],
      "metadata": {
        "colab": {
          "base_uri": "https://localhost:8080/"
        },
        "id": "2pFKIosbnWUh",
        "outputId": "12041b22-b49a-4cb4-83a3-03cc34514bfa"
      },
      "execution_count": 77,
      "outputs": [
        {
          "output_type": "stream",
          "name": "stdout",
          "text": [
            "mean_squared_error= 1200140.864643507\n",
            "r2_Score= 0.9087047604420885\n"
          ]
        }
      ]
    },
    {
      "cell_type": "code",
      "source": [
        "import statsmodels.formula.api as smf\n",
        "model=smf.ols(\"Price~Age_08_04+Mfg_Month+Mfg_Year+KM+HP+Met_Color+Automatic+cc+Doors+Cylinders+Gears+Quarterly_Tax+Weight+Mfr_Guarantee+BOVAG_Guarantee+Guarantee_Period+ABS+Airbag_1+Airbag_2+Airco+Automatic_airco+Boardcomputer+CD_Player+Central_Lock+Powered_Windows+Power_Steering+Radio+Mistlamps+Sport_Model+Backseat_Divider+Metallic_Rim+Radio_cassette+Tow_Bar+CNG+Diesel+Petrol\",data=newd).fit()\n",
        "model.summary()"
      ],
      "metadata": {
        "colab": {
          "base_uri": "https://localhost:8080/",
          "height": 1000
        },
        "id": "zF42J0Gdo_Z_",
        "outputId": "f50cb938-73ea-4032-af3a-46a89d58d6ce"
      },
      "execution_count": 91,
      "outputs": [
        {
          "output_type": "execute_result",
          "data": {
            "text/plain": [
              "<class 'statsmodels.iolib.summary.Summary'>\n",
              "\"\"\"\n",
              "                            OLS Regression Results                            \n",
              "==============================================================================\n",
              "Dep. Variable:                  Price   R-squared:                       0.909\n",
              "Model:                            OLS   Adj. R-squared:                  0.907\n",
              "Method:                 Least Squares   F-statistic:                     422.9\n",
              "Date:                Sat, 24 Jun 2023   Prob (F-statistic):               0.00\n",
              "Time:                        18:37:29   Log-Likelihood:                -12088.\n",
              "No. Observations:                1436   AIC:                         2.424e+04\n",
              "Df Residuals:                    1402   BIC:                         2.442e+04\n",
              "Df Model:                          33                                         \n",
              "Covariance Type:            nonrobust                                         \n",
              "====================================================================================\n",
              "                       coef    std err          t      P>|t|      [0.025      0.975]\n",
              "------------------------------------------------------------------------------------\n",
              "Intercept           -0.0085      0.000    -17.387      0.000      -0.009      -0.008\n",
              "Age_08_04         -118.8907      3.454    -34.419      0.000    -125.667    -112.115\n",
              "Mfg_Month          -95.4675      9.069    -10.526      0.000    -113.259     -77.676\n",
              "Mfg_Year             0.7846      0.739      1.062      0.288      -0.665       2.234\n",
              "KM                  -0.0164      0.001    -14.528      0.000      -0.019      -0.014\n",
              "HP                  19.1011      3.122      6.119      0.000      12.977      25.225\n",
              "Met_Color           -1.6861     66.795     -0.025      0.980    -132.716     129.344\n",
              "Automatic          345.9661    134.761      2.567      0.010      81.611     610.321\n",
              "cc                  -0.1136      0.077     -1.470      0.142      -0.265       0.038\n",
              "Doors               37.7928     35.712      1.058      0.290     -32.261     107.847\n",
              "Cylinders           -0.0341      0.002    -17.387      0.000      -0.038      -0.030\n",
              "Gears              153.9030    175.045      0.879      0.379    -189.476     497.282\n",
              "Quarterly_Tax       14.4186      1.623      8.882      0.000      11.234      17.603\n",
              "Weight              10.9501      1.141      9.598      0.000       8.712      13.188\n",
              "Mfr_Guarantee      225.8478     65.193      3.464      0.001      97.962     353.733\n",
              "BOVAG_Guarantee    491.3737    112.117      4.383      0.000     271.439     711.309\n",
              "Guarantee_Period    66.0154     12.063      5.473      0.000      42.352      89.679\n",
              "ABS               -268.6395    113.079     -2.376      0.018    -490.461     -46.818\n",
              "Airbag_1           118.6781    220.486      0.538      0.590    -313.839     551.195\n",
              "Airbag_2           -77.2638    115.200     -0.671      0.503    -303.247     148.719\n",
              "Airco              198.4439     79.347      2.501      0.012      42.792     354.096\n",
              "Automatic_airco   2441.3497    167.552     14.571      0.000    2112.670    2770.029\n",
              "Boardcomputer     -267.0375    104.180     -2.563      0.010    -471.404     -62.671\n",
              "CD_Player          209.1112     88.359      2.367      0.018      35.782     382.441\n",
              "Central_Lock       -88.6503    127.027     -0.698      0.485    -337.834     160.533\n",
              "Powered_Windows    418.8826    127.031      3.297      0.001     169.692     668.073\n",
              "Power_Steering     -43.6798    249.373     -0.175      0.861    -532.865     445.506\n",
              "Radio              538.2464    653.636      0.823      0.410    -743.964    1820.457\n",
              "Mistlamps          -50.2691     96.485     -0.521      0.602    -239.540     139.002\n",
              "Sport_Model        304.6015     78.025      3.904      0.000     151.543     457.660\n",
              "Backseat_Divider  -264.8668    114.099     -2.321      0.020    -488.691     -41.043\n",
              "Metallic_Rim       206.0205     84.056      2.451      0.014      41.131     370.910\n",
              "Radio_cassette    -639.4820    653.963     -0.978      0.328   -1922.334     643.370\n",
              "Tow_Bar           -203.5109     69.947     -2.909      0.004    -340.724     -66.298\n",
              "CNG              -1026.9306    198.305     -5.179      0.000   -1415.937    -637.924\n",
              "Diesel             -67.9055    163.414     -0.416      0.678    -388.467     252.656\n",
              "Petrol            1094.8276    168.691      6.490      0.000     763.913    1425.742\n",
              "==============================================================================\n",
              "Omnibus:                      150.375   Durbin-Watson:                   1.716\n",
              "Prob(Omnibus):                  0.000   Jarque-Bera (JB):             1152.403\n",
              "Skew:                           0.080   Prob(JB):                    5.74e-251\n",
              "Kurtosis:                       7.386   Cond. No.                     1.05e+19\n",
              "==============================================================================\n",
              "\n",
              "Notes:\n",
              "[1] Standard Errors assume that the covariance matrix of the errors is correctly specified.\n",
              "[2] The smallest eigenvalue is 7.96e-26. This might indicate that there are\n",
              "strong multicollinearity problems or that the design matrix is singular.\n",
              "\"\"\""
            ],
            "text/html": [
              "<table class=\"simpletable\">\n",
              "<caption>OLS Regression Results</caption>\n",
              "<tr>\n",
              "  <th>Dep. Variable:</th>          <td>Price</td>      <th>  R-squared:         </th> <td>   0.909</td> \n",
              "</tr>\n",
              "<tr>\n",
              "  <th>Model:</th>                   <td>OLS</td>       <th>  Adj. R-squared:    </th> <td>   0.907</td> \n",
              "</tr>\n",
              "<tr>\n",
              "  <th>Method:</th>             <td>Least Squares</td>  <th>  F-statistic:       </th> <td>   422.9</td> \n",
              "</tr>\n",
              "<tr>\n",
              "  <th>Date:</th>             <td>Sat, 24 Jun 2023</td> <th>  Prob (F-statistic):</th>  <td>  0.00</td>  \n",
              "</tr>\n",
              "<tr>\n",
              "  <th>Time:</th>                 <td>18:37:29</td>     <th>  Log-Likelihood:    </th> <td> -12088.</td> \n",
              "</tr>\n",
              "<tr>\n",
              "  <th>No. Observations:</th>      <td>  1436</td>      <th>  AIC:               </th> <td>2.424e+04</td>\n",
              "</tr>\n",
              "<tr>\n",
              "  <th>Df Residuals:</th>          <td>  1402</td>      <th>  BIC:               </th> <td>2.442e+04</td>\n",
              "</tr>\n",
              "<tr>\n",
              "  <th>Df Model:</th>              <td>    33</td>      <th>                     </th>     <td> </td>    \n",
              "</tr>\n",
              "<tr>\n",
              "  <th>Covariance Type:</th>      <td>nonrobust</td>    <th>                     </th>     <td> </td>    \n",
              "</tr>\n",
              "</table>\n",
              "<table class=\"simpletable\">\n",
              "<tr>\n",
              "          <td></td>            <th>coef</th>     <th>std err</th>      <th>t</th>      <th>P>|t|</th>  <th>[0.025</th>    <th>0.975]</th>  \n",
              "</tr>\n",
              "<tr>\n",
              "  <th>Intercept</th>        <td>   -0.0085</td> <td>    0.000</td> <td>  -17.387</td> <td> 0.000</td> <td>   -0.009</td> <td>   -0.008</td>\n",
              "</tr>\n",
              "<tr>\n",
              "  <th>Age_08_04</th>        <td> -118.8907</td> <td>    3.454</td> <td>  -34.419</td> <td> 0.000</td> <td> -125.667</td> <td> -112.115</td>\n",
              "</tr>\n",
              "<tr>\n",
              "  <th>Mfg_Month</th>        <td>  -95.4675</td> <td>    9.069</td> <td>  -10.526</td> <td> 0.000</td> <td> -113.259</td> <td>  -77.676</td>\n",
              "</tr>\n",
              "<tr>\n",
              "  <th>Mfg_Year</th>         <td>    0.7846</td> <td>    0.739</td> <td>    1.062</td> <td> 0.288</td> <td>   -0.665</td> <td>    2.234</td>\n",
              "</tr>\n",
              "<tr>\n",
              "  <th>KM</th>               <td>   -0.0164</td> <td>    0.001</td> <td>  -14.528</td> <td> 0.000</td> <td>   -0.019</td> <td>   -0.014</td>\n",
              "</tr>\n",
              "<tr>\n",
              "  <th>HP</th>               <td>   19.1011</td> <td>    3.122</td> <td>    6.119</td> <td> 0.000</td> <td>   12.977</td> <td>   25.225</td>\n",
              "</tr>\n",
              "<tr>\n",
              "  <th>Met_Color</th>        <td>   -1.6861</td> <td>   66.795</td> <td>   -0.025</td> <td> 0.980</td> <td> -132.716</td> <td>  129.344</td>\n",
              "</tr>\n",
              "<tr>\n",
              "  <th>Automatic</th>        <td>  345.9661</td> <td>  134.761</td> <td>    2.567</td> <td> 0.010</td> <td>   81.611</td> <td>  610.321</td>\n",
              "</tr>\n",
              "<tr>\n",
              "  <th>cc</th>               <td>   -0.1136</td> <td>    0.077</td> <td>   -1.470</td> <td> 0.142</td> <td>   -0.265</td> <td>    0.038</td>\n",
              "</tr>\n",
              "<tr>\n",
              "  <th>Doors</th>            <td>   37.7928</td> <td>   35.712</td> <td>    1.058</td> <td> 0.290</td> <td>  -32.261</td> <td>  107.847</td>\n",
              "</tr>\n",
              "<tr>\n",
              "  <th>Cylinders</th>        <td>   -0.0341</td> <td>    0.002</td> <td>  -17.387</td> <td> 0.000</td> <td>   -0.038</td> <td>   -0.030</td>\n",
              "</tr>\n",
              "<tr>\n",
              "  <th>Gears</th>            <td>  153.9030</td> <td>  175.045</td> <td>    0.879</td> <td> 0.379</td> <td> -189.476</td> <td>  497.282</td>\n",
              "</tr>\n",
              "<tr>\n",
              "  <th>Quarterly_Tax</th>    <td>   14.4186</td> <td>    1.623</td> <td>    8.882</td> <td> 0.000</td> <td>   11.234</td> <td>   17.603</td>\n",
              "</tr>\n",
              "<tr>\n",
              "  <th>Weight</th>           <td>   10.9501</td> <td>    1.141</td> <td>    9.598</td> <td> 0.000</td> <td>    8.712</td> <td>   13.188</td>\n",
              "</tr>\n",
              "<tr>\n",
              "  <th>Mfr_Guarantee</th>    <td>  225.8478</td> <td>   65.193</td> <td>    3.464</td> <td> 0.001</td> <td>   97.962</td> <td>  353.733</td>\n",
              "</tr>\n",
              "<tr>\n",
              "  <th>BOVAG_Guarantee</th>  <td>  491.3737</td> <td>  112.117</td> <td>    4.383</td> <td> 0.000</td> <td>  271.439</td> <td>  711.309</td>\n",
              "</tr>\n",
              "<tr>\n",
              "  <th>Guarantee_Period</th> <td>   66.0154</td> <td>   12.063</td> <td>    5.473</td> <td> 0.000</td> <td>   42.352</td> <td>   89.679</td>\n",
              "</tr>\n",
              "<tr>\n",
              "  <th>ABS</th>              <td> -268.6395</td> <td>  113.079</td> <td>   -2.376</td> <td> 0.018</td> <td> -490.461</td> <td>  -46.818</td>\n",
              "</tr>\n",
              "<tr>\n",
              "  <th>Airbag_1</th>         <td>  118.6781</td> <td>  220.486</td> <td>    0.538</td> <td> 0.590</td> <td> -313.839</td> <td>  551.195</td>\n",
              "</tr>\n",
              "<tr>\n",
              "  <th>Airbag_2</th>         <td>  -77.2638</td> <td>  115.200</td> <td>   -0.671</td> <td> 0.503</td> <td> -303.247</td> <td>  148.719</td>\n",
              "</tr>\n",
              "<tr>\n",
              "  <th>Airco</th>            <td>  198.4439</td> <td>   79.347</td> <td>    2.501</td> <td> 0.012</td> <td>   42.792</td> <td>  354.096</td>\n",
              "</tr>\n",
              "<tr>\n",
              "  <th>Automatic_airco</th>  <td> 2441.3497</td> <td>  167.552</td> <td>   14.571</td> <td> 0.000</td> <td> 2112.670</td> <td> 2770.029</td>\n",
              "</tr>\n",
              "<tr>\n",
              "  <th>Boardcomputer</th>    <td> -267.0375</td> <td>  104.180</td> <td>   -2.563</td> <td> 0.010</td> <td> -471.404</td> <td>  -62.671</td>\n",
              "</tr>\n",
              "<tr>\n",
              "  <th>CD_Player</th>        <td>  209.1112</td> <td>   88.359</td> <td>    2.367</td> <td> 0.018</td> <td>   35.782</td> <td>  382.441</td>\n",
              "</tr>\n",
              "<tr>\n",
              "  <th>Central_Lock</th>     <td>  -88.6503</td> <td>  127.027</td> <td>   -0.698</td> <td> 0.485</td> <td> -337.834</td> <td>  160.533</td>\n",
              "</tr>\n",
              "<tr>\n",
              "  <th>Powered_Windows</th>  <td>  418.8826</td> <td>  127.031</td> <td>    3.297</td> <td> 0.001</td> <td>  169.692</td> <td>  668.073</td>\n",
              "</tr>\n",
              "<tr>\n",
              "  <th>Power_Steering</th>   <td>  -43.6798</td> <td>  249.373</td> <td>   -0.175</td> <td> 0.861</td> <td> -532.865</td> <td>  445.506</td>\n",
              "</tr>\n",
              "<tr>\n",
              "  <th>Radio</th>            <td>  538.2464</td> <td>  653.636</td> <td>    0.823</td> <td> 0.410</td> <td> -743.964</td> <td> 1820.457</td>\n",
              "</tr>\n",
              "<tr>\n",
              "  <th>Mistlamps</th>        <td>  -50.2691</td> <td>   96.485</td> <td>   -0.521</td> <td> 0.602</td> <td> -239.540</td> <td>  139.002</td>\n",
              "</tr>\n",
              "<tr>\n",
              "  <th>Sport_Model</th>      <td>  304.6015</td> <td>   78.025</td> <td>    3.904</td> <td> 0.000</td> <td>  151.543</td> <td>  457.660</td>\n",
              "</tr>\n",
              "<tr>\n",
              "  <th>Backseat_Divider</th> <td> -264.8668</td> <td>  114.099</td> <td>   -2.321</td> <td> 0.020</td> <td> -488.691</td> <td>  -41.043</td>\n",
              "</tr>\n",
              "<tr>\n",
              "  <th>Metallic_Rim</th>     <td>  206.0205</td> <td>   84.056</td> <td>    2.451</td> <td> 0.014</td> <td>   41.131</td> <td>  370.910</td>\n",
              "</tr>\n",
              "<tr>\n",
              "  <th>Radio_cassette</th>   <td> -639.4820</td> <td>  653.963</td> <td>   -0.978</td> <td> 0.328</td> <td>-1922.334</td> <td>  643.370</td>\n",
              "</tr>\n",
              "<tr>\n",
              "  <th>Tow_Bar</th>          <td> -203.5109</td> <td>   69.947</td> <td>   -2.909</td> <td> 0.004</td> <td> -340.724</td> <td>  -66.298</td>\n",
              "</tr>\n",
              "<tr>\n",
              "  <th>CNG</th>              <td>-1026.9306</td> <td>  198.305</td> <td>   -5.179</td> <td> 0.000</td> <td>-1415.937</td> <td> -637.924</td>\n",
              "</tr>\n",
              "<tr>\n",
              "  <th>Diesel</th>           <td>  -67.9055</td> <td>  163.414</td> <td>   -0.416</td> <td> 0.678</td> <td> -388.467</td> <td>  252.656</td>\n",
              "</tr>\n",
              "<tr>\n",
              "  <th>Petrol</th>           <td> 1094.8276</td> <td>  168.691</td> <td>    6.490</td> <td> 0.000</td> <td>  763.913</td> <td> 1425.742</td>\n",
              "</tr>\n",
              "</table>\n",
              "<table class=\"simpletable\">\n",
              "<tr>\n",
              "  <th>Omnibus:</th>       <td>150.375</td> <th>  Durbin-Watson:     </th> <td>   1.716</td> \n",
              "</tr>\n",
              "<tr>\n",
              "  <th>Prob(Omnibus):</th> <td> 0.000</td>  <th>  Jarque-Bera (JB):  </th> <td>1152.403</td> \n",
              "</tr>\n",
              "<tr>\n",
              "  <th>Skew:</th>          <td> 0.080</td>  <th>  Prob(JB):          </th> <td>5.74e-251</td>\n",
              "</tr>\n",
              "<tr>\n",
              "  <th>Kurtosis:</th>      <td> 7.386</td>  <th>  Cond. No.          </th> <td>1.05e+19</td> \n",
              "</tr>\n",
              "</table><br/><br/>Notes:<br/>[1] Standard Errors assume that the covariance matrix of the errors is correctly specified.<br/>[2] The smallest eigenvalue is 7.96e-26. This might indicate that there are<br/>strong multicollinearity problems or that the design matrix is singular."
            ]
          },
          "metadata": {},
          "execution_count": 91
        }
      ]
    },
    {
      "cell_type": "code",
      "source": [
        "renewd = newd.drop(labels=['Mfg_Year','Met_Color','Automatic','cc','Doors','Gears','Mfr_Guarantee','ABS','Airbag_1','Airbag_2','Airco','Boardcomputer','CD_Player','Central_Lock','Powered_Windows','Power_Steering','Radio','Mistlamps','Backseat_Divider','Metallic_Rim','Radio_cassette','Tow_Bar'],axis=1)"
      ],
      "metadata": {
        "id": "YYRFFGW8ue5T"
      },
      "execution_count": 113,
      "outputs": []
    },
    {
      "cell_type": "code",
      "source": [
        "\n"
      ],
      "metadata": {
        "id": "EHujR84Twx_i"
      },
      "execution_count": 98,
      "outputs": []
    },
    {
      "cell_type": "code",
      "source": [
        "import statsmodels.formula.api as smf\n",
        "model=smf.ols(\"Price~Age_08_04+Mfg_Month+KM+Cylinders+Quarterly_Tax+Weight+BOVAG_Guarantee+Guarantee_Period+Automatic_airco+Sport_Model+CNG+Diesel+Petrol+HP\",data=renewd).fit()\n",
        "model.summary()"
      ],
      "metadata": {
        "id": "eXGQWlUiwhxK",
        "outputId": "5fec6160-1cda-45e7-abff-cbff4858ea40",
        "colab": {
          "base_uri": "https://localhost:8080/",
          "height": 764
        }
      },
      "execution_count": 114,
      "outputs": [
        {
          "output_type": "execute_result",
          "data": {
            "text/plain": [
              "<class 'statsmodels.iolib.summary.Summary'>\n",
              "\"\"\"\n",
              "                            OLS Regression Results                            \n",
              "==============================================================================\n",
              "Dep. Variable:                  Price   R-squared:                       0.900\n",
              "Model:                            OLS   Adj. R-squared:                  0.900\n",
              "Method:                 Least Squares   F-statistic:                     1073.\n",
              "Date:                Sat, 24 Jun 2023   Prob (F-statistic):               0.00\n",
              "Time:                        19:07:41   Log-Likelihood:                -12150.\n",
              "No. Observations:                1436   AIC:                         2.433e+04\n",
              "Df Residuals:                    1423   BIC:                         2.439e+04\n",
              "Df Model:                          12                                         \n",
              "Covariance Type:            nonrobust                                         \n",
              "====================================================================================\n",
              "                       coef    std err          t      P>|t|      [0.025      0.975]\n",
              "------------------------------------------------------------------------------------\n",
              "Intercept          -47.3495     62.647     -0.756      0.450    -170.239      75.540\n",
              "Age_08_04         -116.0656      2.344    -49.519      0.000    -120.663    -111.468\n",
              "Mfg_Month          -91.4661      9.242     -9.896      0.000    -109.596     -73.336\n",
              "KM                  -0.0162      0.001    -14.180      0.000      -0.018      -0.014\n",
              "Cylinders         -189.3980    250.587     -0.756      0.450    -680.958     302.162\n",
              "Quarterly_Tax       12.9885      1.527      8.506      0.000       9.993      15.984\n",
              "Weight              13.6510      1.036     13.175      0.000      11.619      15.683\n",
              "BOVAG_Guarantee    460.4560    108.344      4.250      0.000     247.924     672.988\n",
              "Guarantee_Period    83.6173     11.101      7.532      0.000      61.841     105.394\n",
              "Automatic_airco   2620.7182    160.086     16.371      0.000    2306.688    2934.748\n",
              "Sport_Model        197.2395     71.011      2.778      0.006      57.942     336.537\n",
              "CNG               -896.8795    201.463     -4.452      0.000   -1292.076    -501.683\n",
              "Diesel            -293.5191    164.240     -1.787      0.074    -615.698      28.660\n",
              "Petrol            1143.0491    153.798      7.432      0.000     841.353    1444.745\n",
              "HP                  19.4172      2.965      6.548      0.000      13.600      25.234\n",
              "==============================================================================\n",
              "Omnibus:                      131.627   Durbin-Watson:                   1.683\n",
              "Prob(Omnibus):                  0.000   Jarque-Bera (JB):              858.678\n",
              "Skew:                          -0.022   Prob(JB):                    3.47e-187\n",
              "Kurtosis:                       6.788   Cond. No.                     1.03e+21\n",
              "==============================================================================\n",
              "\n",
              "Notes:\n",
              "[1] Standard Errors assume that the covariance matrix of the errors is correctly specified.\n",
              "[2] The smallest eigenvalue is 8.33e-30. This might indicate that there are\n",
              "strong multicollinearity problems or that the design matrix is singular.\n",
              "\"\"\""
            ],
            "text/html": [
              "<table class=\"simpletable\">\n",
              "<caption>OLS Regression Results</caption>\n",
              "<tr>\n",
              "  <th>Dep. Variable:</th>          <td>Price</td>      <th>  R-squared:         </th> <td>   0.900</td> \n",
              "</tr>\n",
              "<tr>\n",
              "  <th>Model:</th>                   <td>OLS</td>       <th>  Adj. R-squared:    </th> <td>   0.900</td> \n",
              "</tr>\n",
              "<tr>\n",
              "  <th>Method:</th>             <td>Least Squares</td>  <th>  F-statistic:       </th> <td>   1073.</td> \n",
              "</tr>\n",
              "<tr>\n",
              "  <th>Date:</th>             <td>Sat, 24 Jun 2023</td> <th>  Prob (F-statistic):</th>  <td>  0.00</td>  \n",
              "</tr>\n",
              "<tr>\n",
              "  <th>Time:</th>                 <td>19:07:41</td>     <th>  Log-Likelihood:    </th> <td> -12150.</td> \n",
              "</tr>\n",
              "<tr>\n",
              "  <th>No. Observations:</th>      <td>  1436</td>      <th>  AIC:               </th> <td>2.433e+04</td>\n",
              "</tr>\n",
              "<tr>\n",
              "  <th>Df Residuals:</th>          <td>  1423</td>      <th>  BIC:               </th> <td>2.439e+04</td>\n",
              "</tr>\n",
              "<tr>\n",
              "  <th>Df Model:</th>              <td>    12</td>      <th>                     </th>     <td> </td>    \n",
              "</tr>\n",
              "<tr>\n",
              "  <th>Covariance Type:</th>      <td>nonrobust</td>    <th>                     </th>     <td> </td>    \n",
              "</tr>\n",
              "</table>\n",
              "<table class=\"simpletable\">\n",
              "<tr>\n",
              "          <td></td>            <th>coef</th>     <th>std err</th>      <th>t</th>      <th>P>|t|</th>  <th>[0.025</th>    <th>0.975]</th>  \n",
              "</tr>\n",
              "<tr>\n",
              "  <th>Intercept</th>        <td>  -47.3495</td> <td>   62.647</td> <td>   -0.756</td> <td> 0.450</td> <td> -170.239</td> <td>   75.540</td>\n",
              "</tr>\n",
              "<tr>\n",
              "  <th>Age_08_04</th>        <td> -116.0656</td> <td>    2.344</td> <td>  -49.519</td> <td> 0.000</td> <td> -120.663</td> <td> -111.468</td>\n",
              "</tr>\n",
              "<tr>\n",
              "  <th>Mfg_Month</th>        <td>  -91.4661</td> <td>    9.242</td> <td>   -9.896</td> <td> 0.000</td> <td> -109.596</td> <td>  -73.336</td>\n",
              "</tr>\n",
              "<tr>\n",
              "  <th>KM</th>               <td>   -0.0162</td> <td>    0.001</td> <td>  -14.180</td> <td> 0.000</td> <td>   -0.018</td> <td>   -0.014</td>\n",
              "</tr>\n",
              "<tr>\n",
              "  <th>Cylinders</th>        <td> -189.3980</td> <td>  250.587</td> <td>   -0.756</td> <td> 0.450</td> <td> -680.958</td> <td>  302.162</td>\n",
              "</tr>\n",
              "<tr>\n",
              "  <th>Quarterly_Tax</th>    <td>   12.9885</td> <td>    1.527</td> <td>    8.506</td> <td> 0.000</td> <td>    9.993</td> <td>   15.984</td>\n",
              "</tr>\n",
              "<tr>\n",
              "  <th>Weight</th>           <td>   13.6510</td> <td>    1.036</td> <td>   13.175</td> <td> 0.000</td> <td>   11.619</td> <td>   15.683</td>\n",
              "</tr>\n",
              "<tr>\n",
              "  <th>BOVAG_Guarantee</th>  <td>  460.4560</td> <td>  108.344</td> <td>    4.250</td> <td> 0.000</td> <td>  247.924</td> <td>  672.988</td>\n",
              "</tr>\n",
              "<tr>\n",
              "  <th>Guarantee_Period</th> <td>   83.6173</td> <td>   11.101</td> <td>    7.532</td> <td> 0.000</td> <td>   61.841</td> <td>  105.394</td>\n",
              "</tr>\n",
              "<tr>\n",
              "  <th>Automatic_airco</th>  <td> 2620.7182</td> <td>  160.086</td> <td>   16.371</td> <td> 0.000</td> <td> 2306.688</td> <td> 2934.748</td>\n",
              "</tr>\n",
              "<tr>\n",
              "  <th>Sport_Model</th>      <td>  197.2395</td> <td>   71.011</td> <td>    2.778</td> <td> 0.006</td> <td>   57.942</td> <td>  336.537</td>\n",
              "</tr>\n",
              "<tr>\n",
              "  <th>CNG</th>              <td> -896.8795</td> <td>  201.463</td> <td>   -4.452</td> <td> 0.000</td> <td>-1292.076</td> <td> -501.683</td>\n",
              "</tr>\n",
              "<tr>\n",
              "  <th>Diesel</th>           <td> -293.5191</td> <td>  164.240</td> <td>   -1.787</td> <td> 0.074</td> <td> -615.698</td> <td>   28.660</td>\n",
              "</tr>\n",
              "<tr>\n",
              "  <th>Petrol</th>           <td> 1143.0491</td> <td>  153.798</td> <td>    7.432</td> <td> 0.000</td> <td>  841.353</td> <td> 1444.745</td>\n",
              "</tr>\n",
              "<tr>\n",
              "  <th>HP</th>               <td>   19.4172</td> <td>    2.965</td> <td>    6.548</td> <td> 0.000</td> <td>   13.600</td> <td>   25.234</td>\n",
              "</tr>\n",
              "</table>\n",
              "<table class=\"simpletable\">\n",
              "<tr>\n",
              "  <th>Omnibus:</th>       <td>131.627</td> <th>  Durbin-Watson:     </th> <td>   1.683</td> \n",
              "</tr>\n",
              "<tr>\n",
              "  <th>Prob(Omnibus):</th> <td> 0.000</td>  <th>  Jarque-Bera (JB):  </th> <td> 858.678</td> \n",
              "</tr>\n",
              "<tr>\n",
              "  <th>Skew:</th>          <td>-0.022</td>  <th>  Prob(JB):          </th> <td>3.47e-187</td>\n",
              "</tr>\n",
              "<tr>\n",
              "  <th>Kurtosis:</th>      <td> 6.788</td>  <th>  Cond. No.          </th> <td>1.03e+21</td> \n",
              "</tr>\n",
              "</table><br/><br/>Notes:<br/>[1] Standard Errors assume that the covariance matrix of the errors is correctly specified.<br/>[2] The smallest eigenvalue is 8.33e-30. This might indicate that there are<br/>strong multicollinearity problems or that the design matrix is singular."
            ]
          },
          "metadata": {},
          "execution_count": 114
        }
      ]
    },
    {
      "cell_type": "code",
      "source": [
        "model"
      ],
      "metadata": {
        "id": "br2KEGtTtD5M"
      },
      "execution_count": null,
      "outputs": []
    }
  ],
  "metadata": {
    "colab": {
      "name": "Welcome To Colaboratory",
      "toc_visible": true,
      "provenance": [],
      "include_colab_link": true
    },
    "kernelspec": {
      "display_name": "Python 3",
      "name": "python3"
    }
  },
  "nbformat": 4,
  "nbformat_minor": 0
}